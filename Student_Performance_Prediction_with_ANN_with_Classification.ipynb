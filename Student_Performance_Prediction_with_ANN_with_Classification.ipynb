{
  "nbformat": 4,
  "nbformat_minor": 0,
  "metadata": {
    "colab": {
      "name": "Student Performance Prediction with ANN with Classification.ipynb",
      "provenance": [],
      "collapsed_sections": [],
      "toc_visible": true,
      "include_colab_link": true
    },
    "kernelspec": {
      "name": "python3",
      "display_name": "Python 3"
    }
  },
  "cells": [
    {
      "cell_type": "markdown",
      "metadata": {
        "id": "view-in-github",
        "colab_type": "text"
      },
      "source": [
        "<a href=\"https://colab.research.google.com/github/ppajewski/ANN-Students-Performance-Prediction/blob/master/Student_Performance_Prediction_with_ANN_with_Classification.ipynb\" target=\"_parent\"><img src=\"https://colab.research.google.com/assets/colab-badge.svg\" alt=\"Open In Colab\"/></a>"
      ]
    },
    {
      "cell_type": "markdown",
      "metadata": {
        "id": "lP6JLo1tGNBg",
        "colab_type": "text"
      },
      "source": [
        "# Artificial Neural Network"
      ]
    },
    {
      "cell_type": "markdown",
      "metadata": {
        "id": "tk1OyXXDtbUe",
        "colab_type": "text"
      },
      "source": [
        "In this notebook we are going to train ANN model to predict students grades. Description of the data may be found at:\n",
        "https://archive.ics.uci.edu/ml/datasets/student+performance"
      ]
    },
    {
      "cell_type": "markdown",
      "metadata": {
        "id": "gWZyYmS_UE_L",
        "colab_type": "text"
      },
      "source": [
        "### Importing the libraries"
      ]
    },
    {
      "cell_type": "code",
      "metadata": {
        "id": "MxkJoQBkUIHC",
        "colab_type": "code",
        "colab": {}
      },
      "source": [
        "import numpy as np\n",
        "import pandas as pd\n",
        "import tensorflow as tf"
      ],
      "execution_count": 187,
      "outputs": []
    },
    {
      "cell_type": "markdown",
      "metadata": {
        "id": "1E0Q3aoKUCRX",
        "colab_type": "text"
      },
      "source": [
        "## Part 1 - Data Preprocessing"
      ]
    },
    {
      "cell_type": "markdown",
      "metadata": {
        "id": "cKWAkFVGUU0Z",
        "colab_type": "text"
      },
      "source": [
        "### Importing the dataset"
      ]
    },
    {
      "cell_type": "code",
      "metadata": {
        "id": "MXUkhkMfU4wq",
        "colab_type": "code",
        "colab": {}
      },
      "source": [
        "dataset = pd.read_csv('student-mat.csv', sep=';')\n",
        "X = dataset.iloc[:, :-1].values\n",
        "y = dataset.iloc[:, -1].values"
      ],
      "execution_count": 188,
      "outputs": []
    },
    {
      "cell_type": "markdown",
      "metadata": {
        "id": "SPZcpOhsknui",
        "colab_type": "text"
      },
      "source": [
        "Let's say that we want to predict the grade that student gets. We divide points into 5 categories:\n",
        "\n",
        "Grade | Points needed for the grade \n",
        "------ | -------\n",
        "0 | $0 \\leq x < 4$\n",
        "1 | $4 \\leq x < 8$\n",
        "2 | $8 \\leq x < 12$\n",
        "3 | $12 \\leq x < 16$\n",
        "4 | $16 \\leq x $"
      ]
    },
    {
      "cell_type": "code",
      "metadata": {
        "id": "tLHI2x-qisvq",
        "colab_type": "code",
        "colab": {}
      },
      "source": [
        "for i in range(y.shape[0]):\n",
        "  if y[i] < 4:\n",
        "    y[i] = 0\n",
        "  if 4 <= y[i] < 8:\n",
        "    y[i] = 1\n",
        "  if 8 <= y[i] < 12:\n",
        "    y[i] = 2\n",
        "  if 12 <= y[i] <= 16:\n",
        "    y[i] = 3\n",
        "  if 16 <= y[i]:\n",
        "    y[i] = 4"
      ],
      "execution_count": 189,
      "outputs": []
    },
    {
      "cell_type": "markdown",
      "metadata": {
        "id": "2nq1QT6Zvtlg",
        "colab_type": "text"
      },
      "source": [
        "Checking for missing values"
      ]
    },
    {
      "cell_type": "code",
      "metadata": {
        "id": "025PYyktvwqu",
        "colab_type": "code",
        "colab": {
          "base_uri": "https://localhost:8080/",
          "height": 585
        },
        "outputId": "ae2ab8ca-2b7a-49a9-c80a-c67439e69974"
      },
      "source": [
        "print(dataset.isna().sum())"
      ],
      "execution_count": 190,
      "outputs": [
        {
          "output_type": "stream",
          "text": [
            "school        0\n",
            "sex           0\n",
            "age           0\n",
            "address       0\n",
            "famsize       0\n",
            "Pstatus       0\n",
            "Medu          0\n",
            "Fedu          0\n",
            "Mjob          0\n",
            "Fjob          0\n",
            "reason        0\n",
            "guardian      0\n",
            "traveltime    0\n",
            "studytime     0\n",
            "failures      0\n",
            "schoolsup     0\n",
            "famsup        0\n",
            "paid          0\n",
            "activities    0\n",
            "nursery       0\n",
            "higher        0\n",
            "internet      0\n",
            "romantic      0\n",
            "famrel        0\n",
            "freetime      0\n",
            "goout         0\n",
            "Dalc          0\n",
            "Walc          0\n",
            "health        0\n",
            "absences      0\n",
            "G1            0\n",
            "G2            0\n",
            "G3            0\n",
            "dtype: int64\n"
          ],
          "name": "stdout"
        }
      ]
    },
    {
      "cell_type": "markdown",
      "metadata": {
        "id": "oec06e3awinu",
        "colab_type": "text"
      },
      "source": [
        "No values missing"
      ]
    },
    {
      "cell_type": "markdown",
      "metadata": {
        "id": "N6bQ0UgSU-NJ",
        "colab_type": "text"
      },
      "source": [
        "### Encoding categorical data"
      ]
    },
    {
      "cell_type": "markdown",
      "metadata": {
        "id": "le5MJreAbW52",
        "colab_type": "text"
      },
      "source": [
        "Label Encoding the binaray categories"
      ]
    },
    {
      "cell_type": "code",
      "metadata": {
        "id": "PxVKWXxLbczC",
        "colab_type": "code",
        "colab": {}
      },
      "source": [
        "from sklearn.preprocessing import LabelEncoder\n",
        "r = [0, 1, 3, 4, 5]\n",
        "le = LabelEncoder()\n",
        "for i in r:  \n",
        "  X[:, i] = le.fit_transform(X[:, i]) \n",
        "for i in range(15, 23, 1):\n",
        "  X[:, i] = le.fit_transform(X[:, i]) "
      ],
      "execution_count": 191,
      "outputs": []
    },
    {
      "cell_type": "code",
      "metadata": {
        "id": "KniypijWRiq-",
        "colab_type": "code",
        "colab": {}
      },
      "source": [
        "from keras.utils import to_categorical\n",
        "y = to_categorical(y, num_classes=5)"
      ],
      "execution_count": 192,
      "outputs": []
    },
    {
      "cell_type": "markdown",
      "metadata": {
        "id": "CUxGZezpbMcb",
        "colab_type": "text"
      },
      "source": [
        "One Hot Encoding the text columns"
      ]
    },
    {
      "cell_type": "code",
      "metadata": {
        "id": "AMXC8-KMVirw",
        "colab_type": "code",
        "colab": {}
      },
      "source": [
        "from sklearn.compose import ColumnTransformer\n",
        "from sklearn.preprocessing import OneHotEncoder\n",
        "ct = ColumnTransformer(transformers=[('encoder', OneHotEncoder(), [8, 9, 10, 11])], remainder='passthrough')\n",
        "X = np.array(ct.fit_transform(X))\n",
        "ct = ColumnTransformer(transformers=[('encoder', OneHotEncoder(), [0])], remainder='passthrough')"
      ],
      "execution_count": 193,
      "outputs": []
    },
    {
      "cell_type": "markdown",
      "metadata": {
        "id": "vHol938cW8zd",
        "colab_type": "text"
      },
      "source": [
        "### Splitting the dataset into the Training set and Test set"
      ]
    },
    {
      "cell_type": "code",
      "metadata": {
        "id": "Z-TDt0Y_XEfc",
        "colab_type": "code",
        "colab": {}
      },
      "source": [
        "from sklearn.model_selection import train_test_split\n",
        "X_train, X_test, y_train, y_test = train_test_split(X, y, test_size = 0.1)"
      ],
      "execution_count": 194,
      "outputs": []
    },
    {
      "cell_type": "markdown",
      "metadata": {
        "id": "RE_FcHyfV3TQ",
        "colab_type": "text"
      },
      "source": [
        "### Feature Scaling"
      ]
    },
    {
      "cell_type": "code",
      "metadata": {
        "id": "ViCrE00rV8Sk",
        "colab_type": "code",
        "colab": {}
      },
      "source": [
        "from sklearn.preprocessing import StandardScaler\n",
        "sc = StandardScaler()\n",
        "X_train = sc.fit_transform(X_train)\n",
        "X_test = sc.transform(X_test)"
      ],
      "execution_count": 195,
      "outputs": []
    },
    {
      "cell_type": "markdown",
      "metadata": {
        "id": "-zfEzkRVXIwF",
        "colab_type": "text"
      },
      "source": [
        "## Part 2 - Building the ANN"
      ]
    },
    {
      "cell_type": "markdown",
      "metadata": {
        "id": "KvdeScabXtlB",
        "colab_type": "text"
      },
      "source": [
        "### Initializing the ANN"
      ]
    },
    {
      "cell_type": "code",
      "metadata": {
        "id": "3dtrScHxXQox",
        "colab_type": "code",
        "colab": {}
      },
      "source": [
        "ann = tf.keras.models.Sequential()"
      ],
      "execution_count": 196,
      "outputs": []
    },
    {
      "cell_type": "markdown",
      "metadata": {
        "id": "rP6urV6SX7kS",
        "colab_type": "text"
      },
      "source": [
        "### Adding the input layer and the first hidden layer"
      ]
    },
    {
      "cell_type": "code",
      "metadata": {
        "id": "IR0qAKJdQyKn",
        "colab_type": "code",
        "colab": {}
      },
      "source": [
        "from keras.layers import Dropout\n",
        "ann.add(tf.keras.layers.Dense(units=40, activation='relu'))\n",
        "ann.add(Dropout(0.2, input_shape=(40,)))"
      ],
      "execution_count": 197,
      "outputs": []
    },
    {
      "cell_type": "markdown",
      "metadata": {
        "id": "BELWAc_8YJze",
        "colab_type": "text"
      },
      "source": [
        "### Adding the second hidden layer"
      ]
    },
    {
      "cell_type": "code",
      "metadata": {
        "id": "JneR0u0sYRTd",
        "colab_type": "code",
        "colab": {}
      },
      "source": [
        "ann.add(tf.keras.layers.Dense(units=100, activation='relu'))\n",
        "ann.add(Dropout(0.2, input_shape=(100,)))\n",
        "ann.add(tf.keras.layers.Dense(units=60, activation='relu'))\n",
        "ann.add(Dropout(0.2, input_shape=(60,)))"
      ],
      "execution_count": 198,
      "outputs": []
    },
    {
      "cell_type": "markdown",
      "metadata": {
        "id": "OyNEe6RXYcU4",
        "colab_type": "text"
      },
      "source": [
        "### Adding the output layer"
      ]
    },
    {
      "cell_type": "code",
      "metadata": {
        "id": "Cn3x41RBYfvY",
        "colab_type": "code",
        "colab": {}
      },
      "source": [
        "ann.add(tf.keras.layers.Dense(units=5, activation='softmax'))"
      ],
      "execution_count": 199,
      "outputs": []
    },
    {
      "cell_type": "markdown",
      "metadata": {
        "id": "fcfY7fl6z_4g",
        "colab_type": "text"
      },
      "source": [
        "Number of units in the output layer corresponds to number of categories to be predicted - here we have grades from 0 to 4 so we need 5 units."
      ]
    },
    {
      "cell_type": "markdown",
      "metadata": {
        "id": "JT4u2S1_Y4WG",
        "colab_type": "text"
      },
      "source": [
        "## Part 3 - Training the ANN"
      ]
    },
    {
      "cell_type": "markdown",
      "metadata": {
        "id": "8GWlJChhY_ZI",
        "colab_type": "text"
      },
      "source": [
        "### Compiling the ANN"
      ]
    },
    {
      "cell_type": "code",
      "metadata": {
        "id": "fG3RrwDXZEaS",
        "colab_type": "code",
        "colab": {}
      },
      "source": [
        "ann.compile(optimizer = 'adam', loss = 'categorical_crossentropy', metrics = ['categorical_accuracy'])"
      ],
      "execution_count": 200,
      "outputs": []
    },
    {
      "cell_type": "markdown",
      "metadata": {
        "id": "ip9MP-lZ0pqB",
        "colab_type": "text"
      },
      "source": [
        "For binary outcome we must use 'binary_crossentropy' for the loss function. \\\n",
        "For non-binary outcome we use 'categorical_crossentropy'"
      ]
    },
    {
      "cell_type": "markdown",
      "metadata": {
        "id": "0QR_G5u7ZLSM",
        "colab_type": "text"
      },
      "source": [
        "### Training the ANN on the Training set"
      ]
    },
    {
      "cell_type": "markdown",
      "metadata": {
        "id": "VoeK3Xzv2AHS",
        "colab_type": "text"
      },
      "source": [
        "Batch learning is alwys more efficent - it takes batches of predictions and compares them to batches of results rather than comparing one by one. 32 is recomended, default value (we can fine-tune it to the problem as well). "
      ]
    },
    {
      "cell_type": "code",
      "metadata": {
        "id": "nHZ-LKv_ZRb3",
        "colab_type": "code",
        "colab": {
          "base_uri": "https://localhost:8080/",
          "height": 1000
        },
        "outputId": "88efaa54-62c5-4931-f39b-026e30b63efe"
      },
      "source": [
        "ann.fit(X_train, y_train, batch_size = 32, epochs = 200)"
      ],
      "execution_count": 201,
      "outputs": [
        {
          "output_type": "stream",
          "text": [
            "Epoch 1/200\n",
            "12/12 [==============================] - 0s 2ms/step - loss: 1.7265 - categorical_accuracy: 0.2563\n",
            "Epoch 2/200\n",
            "12/12 [==============================] - 0s 2ms/step - loss: 1.4738 - categorical_accuracy: 0.3746\n",
            "Epoch 3/200\n",
            "12/12 [==============================] - 0s 2ms/step - loss: 1.4168 - categorical_accuracy: 0.4141\n",
            "Epoch 4/200\n",
            "12/12 [==============================] - 0s 2ms/step - loss: 1.3415 - categorical_accuracy: 0.4394\n",
            "Epoch 5/200\n",
            "12/12 [==============================] - 0s 2ms/step - loss: 1.2954 - categorical_accuracy: 0.4704\n",
            "Epoch 6/200\n",
            "12/12 [==============================] - 0s 2ms/step - loss: 1.2616 - categorical_accuracy: 0.5268\n",
            "Epoch 7/200\n",
            "12/12 [==============================] - 0s 2ms/step - loss: 1.2474 - categorical_accuracy: 0.4986\n",
            "Epoch 8/200\n",
            "12/12 [==============================] - 0s 2ms/step - loss: 1.2151 - categorical_accuracy: 0.5211\n",
            "Epoch 9/200\n",
            "12/12 [==============================] - 0s 2ms/step - loss: 1.1713 - categorical_accuracy: 0.5465\n",
            "Epoch 10/200\n",
            "12/12 [==============================] - 0s 2ms/step - loss: 1.1481 - categorical_accuracy: 0.5746\n",
            "Epoch 11/200\n",
            "12/12 [==============================] - 0s 2ms/step - loss: 1.1280 - categorical_accuracy: 0.5549\n",
            "Epoch 12/200\n",
            "12/12 [==============================] - 0s 2ms/step - loss: 1.0518 - categorical_accuracy: 0.5690\n",
            "Epoch 13/200\n",
            "12/12 [==============================] - 0s 2ms/step - loss: 1.0589 - categorical_accuracy: 0.5662\n",
            "Epoch 14/200\n",
            "12/12 [==============================] - 0s 3ms/step - loss: 0.9837 - categorical_accuracy: 0.5915\n",
            "Epoch 15/200\n",
            "12/12 [==============================] - 0s 2ms/step - loss: 0.9503 - categorical_accuracy: 0.6141\n",
            "Epoch 16/200\n",
            "12/12 [==============================] - 0s 2ms/step - loss: 0.8886 - categorical_accuracy: 0.6338\n",
            "Epoch 17/200\n",
            "12/12 [==============================] - 0s 2ms/step - loss: 0.8628 - categorical_accuracy: 0.6676\n",
            "Epoch 18/200\n",
            "12/12 [==============================] - 0s 2ms/step - loss: 0.8197 - categorical_accuracy: 0.6732\n",
            "Epoch 19/200\n",
            "12/12 [==============================] - 0s 2ms/step - loss: 0.8193 - categorical_accuracy: 0.6901\n",
            "Epoch 20/200\n",
            "12/12 [==============================] - 0s 2ms/step - loss: 0.7745 - categorical_accuracy: 0.6845\n",
            "Epoch 21/200\n",
            "12/12 [==============================] - 0s 2ms/step - loss: 0.7505 - categorical_accuracy: 0.7127\n",
            "Epoch 22/200\n",
            "12/12 [==============================] - 0s 2ms/step - loss: 0.6942 - categorical_accuracy: 0.7549\n",
            "Epoch 23/200\n",
            "12/12 [==============================] - 0s 2ms/step - loss: 0.7047 - categorical_accuracy: 0.7239\n",
            "Epoch 24/200\n",
            "12/12 [==============================] - 0s 2ms/step - loss: 0.6889 - categorical_accuracy: 0.7042\n",
            "Epoch 25/200\n",
            "12/12 [==============================] - 0s 2ms/step - loss: 0.6756 - categorical_accuracy: 0.7127\n",
            "Epoch 26/200\n",
            "12/12 [==============================] - 0s 2ms/step - loss: 0.6243 - categorical_accuracy: 0.7690\n",
            "Epoch 27/200\n",
            "12/12 [==============================] - 0s 2ms/step - loss: 0.6026 - categorical_accuracy: 0.7408\n",
            "Epoch 28/200\n",
            "12/12 [==============================] - 0s 2ms/step - loss: 0.5575 - categorical_accuracy: 0.7690\n",
            "Epoch 29/200\n",
            "12/12 [==============================] - 0s 3ms/step - loss: 0.5939 - categorical_accuracy: 0.7915\n",
            "Epoch 30/200\n",
            "12/12 [==============================] - 0s 2ms/step - loss: 0.5866 - categorical_accuracy: 0.7746\n",
            "Epoch 31/200\n",
            "12/12 [==============================] - 0s 2ms/step - loss: 0.5910 - categorical_accuracy: 0.7465\n",
            "Epoch 32/200\n",
            "12/12 [==============================] - 0s 2ms/step - loss: 0.5632 - categorical_accuracy: 0.7831\n",
            "Epoch 33/200\n",
            "12/12 [==============================] - 0s 2ms/step - loss: 0.5662 - categorical_accuracy: 0.7746\n",
            "Epoch 34/200\n",
            "12/12 [==============================] - 0s 2ms/step - loss: 0.4841 - categorical_accuracy: 0.8254\n",
            "Epoch 35/200\n",
            "12/12 [==============================] - 0s 2ms/step - loss: 0.4966 - categorical_accuracy: 0.8282\n",
            "Epoch 36/200\n",
            "12/12 [==============================] - 0s 3ms/step - loss: 0.4440 - categorical_accuracy: 0.8394\n",
            "Epoch 37/200\n",
            "12/12 [==============================] - 0s 2ms/step - loss: 0.4816 - categorical_accuracy: 0.8282\n",
            "Epoch 38/200\n",
            "12/12 [==============================] - 0s 2ms/step - loss: 0.4188 - categorical_accuracy: 0.8479\n",
            "Epoch 39/200\n",
            "12/12 [==============================] - 0s 2ms/step - loss: 0.3844 - categorical_accuracy: 0.8732\n",
            "Epoch 40/200\n",
            "12/12 [==============================] - 0s 2ms/step - loss: 0.4472 - categorical_accuracy: 0.8197\n",
            "Epoch 41/200\n",
            "12/12 [==============================] - 0s 2ms/step - loss: 0.3960 - categorical_accuracy: 0.8366\n",
            "Epoch 42/200\n",
            "12/12 [==============================] - 0s 2ms/step - loss: 0.4448 - categorical_accuracy: 0.8338\n",
            "Epoch 43/200\n",
            "12/12 [==============================] - 0s 2ms/step - loss: 0.3811 - categorical_accuracy: 0.8676\n",
            "Epoch 44/200\n",
            "12/12 [==============================] - 0s 2ms/step - loss: 0.3634 - categorical_accuracy: 0.8676\n",
            "Epoch 45/200\n",
            "12/12 [==============================] - 0s 2ms/step - loss: 0.3915 - categorical_accuracy: 0.8366\n",
            "Epoch 46/200\n",
            "12/12 [==============================] - 0s 2ms/step - loss: 0.3746 - categorical_accuracy: 0.8507\n",
            "Epoch 47/200\n",
            "12/12 [==============================] - 0s 2ms/step - loss: 0.4058 - categorical_accuracy: 0.8451\n",
            "Epoch 48/200\n",
            "12/12 [==============================] - 0s 2ms/step - loss: 0.3670 - categorical_accuracy: 0.8676\n",
            "Epoch 49/200\n",
            "12/12 [==============================] - 0s 2ms/step - loss: 0.3419 - categorical_accuracy: 0.8620\n",
            "Epoch 50/200\n",
            "12/12 [==============================] - 0s 2ms/step - loss: 0.3777 - categorical_accuracy: 0.8676\n",
            "Epoch 51/200\n",
            "12/12 [==============================] - 0s 2ms/step - loss: 0.3522 - categorical_accuracy: 0.8901\n",
            "Epoch 52/200\n",
            "12/12 [==============================] - 0s 2ms/step - loss: 0.3508 - categorical_accuracy: 0.8732\n",
            "Epoch 53/200\n",
            "12/12 [==============================] - 0s 2ms/step - loss: 0.2965 - categorical_accuracy: 0.8901\n",
            "Epoch 54/200\n",
            "12/12 [==============================] - 0s 2ms/step - loss: 0.3189 - categorical_accuracy: 0.8789\n",
            "Epoch 55/200\n",
            "12/12 [==============================] - 0s 2ms/step - loss: 0.2782 - categorical_accuracy: 0.8958\n",
            "Epoch 56/200\n",
            "12/12 [==============================] - 0s 2ms/step - loss: 0.3227 - categorical_accuracy: 0.8845\n",
            "Epoch 57/200\n",
            "12/12 [==============================] - 0s 2ms/step - loss: 0.2640 - categorical_accuracy: 0.8986\n",
            "Epoch 58/200\n",
            "12/12 [==============================] - 0s 2ms/step - loss: 0.2946 - categorical_accuracy: 0.8620\n",
            "Epoch 59/200\n",
            "12/12 [==============================] - 0s 2ms/step - loss: 0.2556 - categorical_accuracy: 0.9014\n",
            "Epoch 60/200\n",
            "12/12 [==============================] - 0s 2ms/step - loss: 0.3551 - categorical_accuracy: 0.8732\n",
            "Epoch 61/200\n",
            "12/12 [==============================] - 0s 2ms/step - loss: 0.2544 - categorical_accuracy: 0.9239\n",
            "Epoch 62/200\n",
            "12/12 [==============================] - 0s 2ms/step - loss: 0.2526 - categorical_accuracy: 0.9099\n",
            "Epoch 63/200\n",
            "12/12 [==============================] - 0s 2ms/step - loss: 0.2499 - categorical_accuracy: 0.9211\n",
            "Epoch 64/200\n",
            "12/12 [==============================] - 0s 2ms/step - loss: 0.2197 - categorical_accuracy: 0.9211\n",
            "Epoch 65/200\n",
            "12/12 [==============================] - 0s 2ms/step - loss: 0.2454 - categorical_accuracy: 0.9070\n",
            "Epoch 66/200\n",
            "12/12 [==============================] - 0s 2ms/step - loss: 0.2544 - categorical_accuracy: 0.9155\n",
            "Epoch 67/200\n",
            "12/12 [==============================] - 0s 2ms/step - loss: 0.2789 - categorical_accuracy: 0.8930\n",
            "Epoch 68/200\n",
            "12/12 [==============================] - 0s 2ms/step - loss: 0.2605 - categorical_accuracy: 0.8986\n",
            "Epoch 69/200\n",
            "12/12 [==============================] - 0s 2ms/step - loss: 0.2090 - categorical_accuracy: 0.9352\n",
            "Epoch 70/200\n",
            "12/12 [==============================] - 0s 2ms/step - loss: 0.2562 - categorical_accuracy: 0.8986\n",
            "Epoch 71/200\n",
            "12/12 [==============================] - 0s 2ms/step - loss: 0.2754 - categorical_accuracy: 0.9042\n",
            "Epoch 72/200\n",
            "12/12 [==============================] - 0s 2ms/step - loss: 0.2103 - categorical_accuracy: 0.9239\n",
            "Epoch 73/200\n",
            "12/12 [==============================] - 0s 2ms/step - loss: 0.2350 - categorical_accuracy: 0.9155\n",
            "Epoch 74/200\n",
            "12/12 [==============================] - 0s 2ms/step - loss: 0.1992 - categorical_accuracy: 0.9408\n",
            "Epoch 75/200\n",
            "12/12 [==============================] - 0s 2ms/step - loss: 0.1952 - categorical_accuracy: 0.9211\n",
            "Epoch 76/200\n",
            "12/12 [==============================] - 0s 2ms/step - loss: 0.2131 - categorical_accuracy: 0.9211\n",
            "Epoch 77/200\n",
            "12/12 [==============================] - 0s 2ms/step - loss: 0.1882 - categorical_accuracy: 0.9268\n",
            "Epoch 78/200\n",
            "12/12 [==============================] - 0s 2ms/step - loss: 0.1652 - categorical_accuracy: 0.9380\n",
            "Epoch 79/200\n",
            "12/12 [==============================] - 0s 2ms/step - loss: 0.1689 - categorical_accuracy: 0.9352\n",
            "Epoch 80/200\n",
            "12/12 [==============================] - 0s 2ms/step - loss: 0.2034 - categorical_accuracy: 0.9183\n",
            "Epoch 81/200\n",
            "12/12 [==============================] - 0s 2ms/step - loss: 0.1998 - categorical_accuracy: 0.9155\n",
            "Epoch 82/200\n",
            "12/12 [==============================] - 0s 2ms/step - loss: 0.1855 - categorical_accuracy: 0.9211\n",
            "Epoch 83/200\n",
            "12/12 [==============================] - 0s 2ms/step - loss: 0.1695 - categorical_accuracy: 0.9324\n",
            "Epoch 84/200\n",
            "12/12 [==============================] - 0s 2ms/step - loss: 0.2214 - categorical_accuracy: 0.8986\n",
            "Epoch 85/200\n",
            "12/12 [==============================] - 0s 2ms/step - loss: 0.1564 - categorical_accuracy: 0.9437\n",
            "Epoch 86/200\n",
            "12/12 [==============================] - 0s 2ms/step - loss: 0.2033 - categorical_accuracy: 0.9465\n",
            "Epoch 87/200\n",
            "12/12 [==============================] - 0s 2ms/step - loss: 0.2257 - categorical_accuracy: 0.9211\n",
            "Epoch 88/200\n",
            "12/12 [==============================] - 0s 2ms/step - loss: 0.1914 - categorical_accuracy: 0.9183\n",
            "Epoch 89/200\n",
            "12/12 [==============================] - 0s 2ms/step - loss: 0.1885 - categorical_accuracy: 0.9380\n",
            "Epoch 90/200\n",
            "12/12 [==============================] - 0s 2ms/step - loss: 0.1957 - categorical_accuracy: 0.9296\n",
            "Epoch 91/200\n",
            "12/12 [==============================] - 0s 2ms/step - loss: 0.1820 - categorical_accuracy: 0.9380\n",
            "Epoch 92/200\n",
            "12/12 [==============================] - 0s 2ms/step - loss: 0.1928 - categorical_accuracy: 0.9296\n",
            "Epoch 93/200\n",
            "12/12 [==============================] - 0s 2ms/step - loss: 0.2069 - categorical_accuracy: 0.9099\n",
            "Epoch 94/200\n",
            "12/12 [==============================] - 0s 2ms/step - loss: 0.1898 - categorical_accuracy: 0.9211\n",
            "Epoch 95/200\n",
            "12/12 [==============================] - 0s 2ms/step - loss: 0.1601 - categorical_accuracy: 0.9408\n",
            "Epoch 96/200\n",
            "12/12 [==============================] - 0s 2ms/step - loss: 0.1517 - categorical_accuracy: 0.9408\n",
            "Epoch 97/200\n",
            "12/12 [==============================] - 0s 2ms/step - loss: 0.1707 - categorical_accuracy: 0.9352\n",
            "Epoch 98/200\n",
            "12/12 [==============================] - 0s 2ms/step - loss: 0.1543 - categorical_accuracy: 0.9549\n",
            "Epoch 99/200\n",
            "12/12 [==============================] - 0s 2ms/step - loss: 0.1878 - categorical_accuracy: 0.9268\n",
            "Epoch 100/200\n",
            "12/12 [==============================] - 0s 2ms/step - loss: 0.1590 - categorical_accuracy: 0.9437\n",
            "Epoch 101/200\n",
            "12/12 [==============================] - 0s 2ms/step - loss: 0.1670 - categorical_accuracy: 0.9408\n",
            "Epoch 102/200\n",
            "12/12 [==============================] - 0s 2ms/step - loss: 0.1883 - categorical_accuracy: 0.9352\n",
            "Epoch 103/200\n",
            "12/12 [==============================] - 0s 2ms/step - loss: 0.1784 - categorical_accuracy: 0.9352\n",
            "Epoch 104/200\n",
            "12/12 [==============================] - 0s 2ms/step - loss: 0.1596 - categorical_accuracy: 0.9408\n",
            "Epoch 105/200\n",
            "12/12 [==============================] - 0s 2ms/step - loss: 0.2058 - categorical_accuracy: 0.9493\n",
            "Epoch 106/200\n",
            "12/12 [==============================] - 0s 2ms/step - loss: 0.1594 - categorical_accuracy: 0.9324\n",
            "Epoch 107/200\n",
            "12/12 [==============================] - 0s 2ms/step - loss: 0.2128 - categorical_accuracy: 0.9099\n",
            "Epoch 108/200\n",
            "12/12 [==============================] - 0s 2ms/step - loss: 0.1562 - categorical_accuracy: 0.9380\n",
            "Epoch 109/200\n",
            "12/12 [==============================] - 0s 2ms/step - loss: 0.1649 - categorical_accuracy: 0.9465\n",
            "Epoch 110/200\n",
            "12/12 [==============================] - 0s 2ms/step - loss: 0.1628 - categorical_accuracy: 0.9352\n",
            "Epoch 111/200\n",
            "12/12 [==============================] - 0s 2ms/step - loss: 0.1636 - categorical_accuracy: 0.9211\n",
            "Epoch 112/200\n",
            "12/12 [==============================] - 0s 2ms/step - loss: 0.1529 - categorical_accuracy: 0.9549\n",
            "Epoch 113/200\n",
            "12/12 [==============================] - 0s 2ms/step - loss: 0.1329 - categorical_accuracy: 0.9549\n",
            "Epoch 114/200\n",
            "12/12 [==============================] - 0s 2ms/step - loss: 0.1485 - categorical_accuracy: 0.9465\n",
            "Epoch 115/200\n",
            "12/12 [==============================] - 0s 2ms/step - loss: 0.1772 - categorical_accuracy: 0.9408\n",
            "Epoch 116/200\n",
            "12/12 [==============================] - 0s 2ms/step - loss: 0.1307 - categorical_accuracy: 0.9493\n",
            "Epoch 117/200\n",
            "12/12 [==============================] - 0s 2ms/step - loss: 0.1507 - categorical_accuracy: 0.9465\n",
            "Epoch 118/200\n",
            "12/12 [==============================] - 0s 2ms/step - loss: 0.1534 - categorical_accuracy: 0.9408\n",
            "Epoch 119/200\n",
            "12/12 [==============================] - 0s 2ms/step - loss: 0.1600 - categorical_accuracy: 0.9324\n",
            "Epoch 120/200\n",
            "12/12 [==============================] - 0s 2ms/step - loss: 0.1603 - categorical_accuracy: 0.9296\n",
            "Epoch 121/200\n",
            "12/12 [==============================] - 0s 2ms/step - loss: 0.1305 - categorical_accuracy: 0.9408\n",
            "Epoch 122/200\n",
            "12/12 [==============================] - 0s 2ms/step - loss: 0.1375 - categorical_accuracy: 0.9634\n",
            "Epoch 123/200\n",
            "12/12 [==============================] - 0s 2ms/step - loss: 0.1061 - categorical_accuracy: 0.9577\n",
            "Epoch 124/200\n",
            "12/12 [==============================] - 0s 2ms/step - loss: 0.1438 - categorical_accuracy: 0.9465\n",
            "Epoch 125/200\n",
            "12/12 [==============================] - 0s 2ms/step - loss: 0.1338 - categorical_accuracy: 0.9577\n",
            "Epoch 126/200\n",
            "12/12 [==============================] - 0s 2ms/step - loss: 0.1339 - categorical_accuracy: 0.9465\n",
            "Epoch 127/200\n",
            "12/12 [==============================] - 0s 2ms/step - loss: 0.1090 - categorical_accuracy: 0.9634\n",
            "Epoch 128/200\n",
            "12/12 [==============================] - 0s 2ms/step - loss: 0.1106 - categorical_accuracy: 0.9521\n",
            "Epoch 129/200\n",
            "12/12 [==============================] - 0s 2ms/step - loss: 0.1030 - categorical_accuracy: 0.9746\n",
            "Epoch 130/200\n",
            "12/12 [==============================] - 0s 2ms/step - loss: 0.1506 - categorical_accuracy: 0.9521\n",
            "Epoch 131/200\n",
            "12/12 [==============================] - 0s 2ms/step - loss: 0.1614 - categorical_accuracy: 0.9465\n",
            "Epoch 132/200\n",
            "12/12 [==============================] - 0s 2ms/step - loss: 0.1228 - categorical_accuracy: 0.9493\n",
            "Epoch 133/200\n",
            "12/12 [==============================] - 0s 2ms/step - loss: 0.1615 - categorical_accuracy: 0.9493\n",
            "Epoch 134/200\n",
            "12/12 [==============================] - 0s 3ms/step - loss: 0.1447 - categorical_accuracy: 0.9493\n",
            "Epoch 135/200\n",
            "12/12 [==============================] - 0s 2ms/step - loss: 0.1291 - categorical_accuracy: 0.9549\n",
            "Epoch 136/200\n",
            "12/12 [==============================] - 0s 2ms/step - loss: 0.1747 - categorical_accuracy: 0.9408\n",
            "Epoch 137/200\n",
            "12/12 [==============================] - 0s 2ms/step - loss: 0.1012 - categorical_accuracy: 0.9718\n",
            "Epoch 138/200\n",
            "12/12 [==============================] - 0s 2ms/step - loss: 0.1212 - categorical_accuracy: 0.9690\n",
            "Epoch 139/200\n",
            "12/12 [==============================] - 0s 2ms/step - loss: 0.1577 - categorical_accuracy: 0.9521\n",
            "Epoch 140/200\n",
            "12/12 [==============================] - 0s 2ms/step - loss: 0.1239 - categorical_accuracy: 0.9493\n",
            "Epoch 141/200\n",
            "12/12 [==============================] - 0s 2ms/step - loss: 0.1261 - categorical_accuracy: 0.9549\n",
            "Epoch 142/200\n",
            "12/12 [==============================] - 0s 2ms/step - loss: 0.1191 - categorical_accuracy: 0.9521\n",
            "Epoch 143/200\n",
            "12/12 [==============================] - 0s 2ms/step - loss: 0.1066 - categorical_accuracy: 0.9634\n",
            "Epoch 144/200\n",
            "12/12 [==============================] - 0s 2ms/step - loss: 0.1038 - categorical_accuracy: 0.9662\n",
            "Epoch 145/200\n",
            "12/12 [==============================] - 0s 2ms/step - loss: 0.1393 - categorical_accuracy: 0.9577\n",
            "Epoch 146/200\n",
            "12/12 [==============================] - 0s 2ms/step - loss: 0.0873 - categorical_accuracy: 0.9746\n",
            "Epoch 147/200\n",
            "12/12 [==============================] - 0s 2ms/step - loss: 0.1141 - categorical_accuracy: 0.9634\n",
            "Epoch 148/200\n",
            "12/12 [==============================] - 0s 2ms/step - loss: 0.1061 - categorical_accuracy: 0.9521\n",
            "Epoch 149/200\n",
            "12/12 [==============================] - 0s 2ms/step - loss: 0.1144 - categorical_accuracy: 0.9577\n",
            "Epoch 150/200\n",
            "12/12 [==============================] - 0s 2ms/step - loss: 0.0932 - categorical_accuracy: 0.9662\n",
            "Epoch 151/200\n",
            "12/12 [==============================] - 0s 2ms/step - loss: 0.1539 - categorical_accuracy: 0.9465\n",
            "Epoch 152/200\n",
            "12/12 [==============================] - 0s 2ms/step - loss: 0.1312 - categorical_accuracy: 0.9662\n",
            "Epoch 153/200\n",
            "12/12 [==============================] - 0s 2ms/step - loss: 0.1041 - categorical_accuracy: 0.9606\n",
            "Epoch 154/200\n",
            "12/12 [==============================] - 0s 2ms/step - loss: 0.0917 - categorical_accuracy: 0.9690\n",
            "Epoch 155/200\n",
            "12/12 [==============================] - 0s 2ms/step - loss: 0.1070 - categorical_accuracy: 0.9606\n",
            "Epoch 156/200\n",
            "12/12 [==============================] - 0s 2ms/step - loss: 0.1067 - categorical_accuracy: 0.9577\n",
            "Epoch 157/200\n",
            "12/12 [==============================] - 0s 2ms/step - loss: 0.0882 - categorical_accuracy: 0.9606\n",
            "Epoch 158/200\n",
            "12/12 [==============================] - 0s 2ms/step - loss: 0.1064 - categorical_accuracy: 0.9606\n",
            "Epoch 159/200\n",
            "12/12 [==============================] - 0s 2ms/step - loss: 0.0997 - categorical_accuracy: 0.9718\n",
            "Epoch 160/200\n",
            "12/12 [==============================] - 0s 2ms/step - loss: 0.0674 - categorical_accuracy: 0.9746\n",
            "Epoch 161/200\n",
            "12/12 [==============================] - 0s 2ms/step - loss: 0.0746 - categorical_accuracy: 0.9746\n",
            "Epoch 162/200\n",
            "12/12 [==============================] - 0s 2ms/step - loss: 0.1050 - categorical_accuracy: 0.9521\n",
            "Epoch 163/200\n",
            "12/12 [==============================] - 0s 2ms/step - loss: 0.1211 - categorical_accuracy: 0.9577\n",
            "Epoch 164/200\n",
            "12/12 [==============================] - 0s 2ms/step - loss: 0.0676 - categorical_accuracy: 0.9746\n",
            "Epoch 165/200\n",
            "12/12 [==============================] - 0s 2ms/step - loss: 0.1347 - categorical_accuracy: 0.9577\n",
            "Epoch 166/200\n",
            "12/12 [==============================] - 0s 2ms/step - loss: 0.1125 - categorical_accuracy: 0.9634\n",
            "Epoch 167/200\n",
            "12/12 [==============================] - 0s 3ms/step - loss: 0.0985 - categorical_accuracy: 0.9662\n",
            "Epoch 168/200\n",
            "12/12 [==============================] - 0s 2ms/step - loss: 0.1044 - categorical_accuracy: 0.9634\n",
            "Epoch 169/200\n",
            "12/12 [==============================] - 0s 2ms/step - loss: 0.1469 - categorical_accuracy: 0.9521\n",
            "Epoch 170/200\n",
            "12/12 [==============================] - 0s 2ms/step - loss: 0.0629 - categorical_accuracy: 0.9746\n",
            "Epoch 171/200\n",
            "12/12 [==============================] - 0s 2ms/step - loss: 0.0931 - categorical_accuracy: 0.9746\n",
            "Epoch 172/200\n",
            "12/12 [==============================] - 0s 2ms/step - loss: 0.0781 - categorical_accuracy: 0.9746\n",
            "Epoch 173/200\n",
            "12/12 [==============================] - 0s 2ms/step - loss: 0.1022 - categorical_accuracy: 0.9634\n",
            "Epoch 174/200\n",
            "12/12 [==============================] - 0s 2ms/step - loss: 0.1242 - categorical_accuracy: 0.9521\n",
            "Epoch 175/200\n",
            "12/12 [==============================] - 0s 2ms/step - loss: 0.0743 - categorical_accuracy: 0.9803\n",
            "Epoch 176/200\n",
            "12/12 [==============================] - 0s 2ms/step - loss: 0.1254 - categorical_accuracy: 0.9493\n",
            "Epoch 177/200\n",
            "12/12 [==============================] - 0s 2ms/step - loss: 0.1355 - categorical_accuracy: 0.9606\n",
            "Epoch 178/200\n",
            "12/12 [==============================] - 0s 2ms/step - loss: 0.0589 - categorical_accuracy: 0.9831\n",
            "Epoch 179/200\n",
            "12/12 [==============================] - 0s 2ms/step - loss: 0.0688 - categorical_accuracy: 0.9746\n",
            "Epoch 180/200\n",
            "12/12 [==============================] - 0s 2ms/step - loss: 0.0738 - categorical_accuracy: 0.9718\n",
            "Epoch 181/200\n",
            "12/12 [==============================] - 0s 2ms/step - loss: 0.0797 - categorical_accuracy: 0.9662\n",
            "Epoch 182/200\n",
            "12/12 [==============================] - 0s 2ms/step - loss: 0.0798 - categorical_accuracy: 0.9775\n",
            "Epoch 183/200\n",
            "12/12 [==============================] - 0s 2ms/step - loss: 0.0774 - categorical_accuracy: 0.9775\n",
            "Epoch 184/200\n",
            "12/12 [==============================] - 0s 2ms/step - loss: 0.0728 - categorical_accuracy: 0.9831\n",
            "Epoch 185/200\n",
            "12/12 [==============================] - 0s 2ms/step - loss: 0.0479 - categorical_accuracy: 0.9915\n",
            "Epoch 186/200\n",
            "12/12 [==============================] - 0s 2ms/step - loss: 0.0697 - categorical_accuracy: 0.9775\n",
            "Epoch 187/200\n",
            "12/12 [==============================] - 0s 2ms/step - loss: 0.1075 - categorical_accuracy: 0.9634\n",
            "Epoch 188/200\n",
            "12/12 [==============================] - 0s 2ms/step - loss: 0.1074 - categorical_accuracy: 0.9577\n",
            "Epoch 189/200\n",
            "12/12 [==============================] - 0s 2ms/step - loss: 0.0791 - categorical_accuracy: 0.9662\n",
            "Epoch 190/200\n",
            "12/12 [==============================] - 0s 2ms/step - loss: 0.0700 - categorical_accuracy: 0.9718\n",
            "Epoch 191/200\n",
            "12/12 [==============================] - 0s 2ms/step - loss: 0.0911 - categorical_accuracy: 0.9606\n",
            "Epoch 192/200\n",
            "12/12 [==============================] - 0s 2ms/step - loss: 0.0874 - categorical_accuracy: 0.9746\n",
            "Epoch 193/200\n",
            "12/12 [==============================] - 0s 2ms/step - loss: 0.0836 - categorical_accuracy: 0.9746\n",
            "Epoch 194/200\n",
            "12/12 [==============================] - 0s 2ms/step - loss: 0.1026 - categorical_accuracy: 0.9521\n",
            "Epoch 195/200\n",
            "12/12 [==============================] - 0s 2ms/step - loss: 0.0893 - categorical_accuracy: 0.9690\n",
            "Epoch 196/200\n",
            "12/12 [==============================] - 0s 2ms/step - loss: 0.1023 - categorical_accuracy: 0.9634\n",
            "Epoch 197/200\n",
            "12/12 [==============================] - 0s 2ms/step - loss: 0.0543 - categorical_accuracy: 0.9831\n",
            "Epoch 198/200\n",
            "12/12 [==============================] - 0s 2ms/step - loss: 0.0537 - categorical_accuracy: 0.9859\n",
            "Epoch 199/200\n",
            "12/12 [==============================] - 0s 2ms/step - loss: 0.0808 - categorical_accuracy: 0.9690\n",
            "Epoch 200/200\n",
            "12/12 [==============================] - 0s 2ms/step - loss: 0.0781 - categorical_accuracy: 0.9746\n"
          ],
          "name": "stdout"
        },
        {
          "output_type": "execute_result",
          "data": {
            "text/plain": [
              "<tensorflow.python.keras.callbacks.History at 0x7fe2b5626e10>"
            ]
          },
          "metadata": {
            "tags": []
          },
          "execution_count": 201
        }
      ]
    },
    {
      "cell_type": "markdown",
      "metadata": {
        "id": "tJj5k2MxZga3",
        "colab_type": "text"
      },
      "source": [
        "## Part 4 - Making the predictions and evaluating the model"
      ]
    },
    {
      "cell_type": "markdown",
      "metadata": {
        "id": "o0oyfLWoaEGw",
        "colab_type": "text"
      },
      "source": [
        "### Making the Confusion Matrix"
      ]
    },
    {
      "cell_type": "code",
      "metadata": {
        "id": "ci6K_r6LaF6P",
        "colab_type": "code",
        "colab": {
          "base_uri": "https://localhost:8080/",
          "height": 33
        },
        "outputId": "74689904-0224-4a61-8428-d0953f3c4342"
      },
      "source": [
        "from sklearn.metrics import confusion_matrix, accuracy_score\n",
        "from sklearn.metrics import multilabel_confusion_matrix\n",
        "y_pred = ann.predict(X_test)\n",
        "y_pred = (y_pred > 0.5)\n",
        "cm = multilabel_confusion_matrix(y_pred, y_test)\n",
        "print(f\"Accuracy score: {accuracy_score(y_test, y_pred)*100}%\")"
      ],
      "execution_count": 202,
      "outputs": [
        {
          "output_type": "stream",
          "text": [
            "Accuracy score: 75.0%\n"
          ],
          "name": "stdout"
        }
      ]
    }
  ]
}